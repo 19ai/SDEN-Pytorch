{
 "cells": [
  {
   "cell_type": "code",
   "execution_count": 1,
   "metadata": {
    "collapsed": true
   },
   "outputs": [],
   "source": [
    "import torch\n",
    "import torch.nn as nn\n",
    "import torch.nn.functional as F\n",
    "import torch.optim as optim\n",
    "from torch.autograd import Variable\n",
    "import numpy as np\n",
    "from konlpy.tag import Mecab\n",
    "from copy import deepcopy\n",
    "tagger = Mecab()\n",
    "flatten = lambda l: [item for sublist in l for item in sublist]\n",
    "from data_utils import *\n",
    "from model import SDEN\n",
    "import pickle"
   ]
  },
  {
   "cell_type": "code",
   "execution_count": 2,
   "metadata": {
    "collapsed": true
   },
   "outputs": [],
   "source": [
    "word2index = pickle.load(open('vocab.pkl','rb'))\n",
    "slot2index = pickle.load(open('slot.pkl','rb'))\n",
    "intent2index = pickle.load(open('intent.pkl','rb'))"
   ]
  },
  {
   "cell_type": "code",
   "execution_count": 11,
   "metadata": {
    "collapsed": true
   },
   "outputs": [],
   "source": [
    "index2intent = {v:k for k,v in intent2index.items()}\n",
    "index2slot = {v:k for k,v in slot2index.items()}"
   ]
  },
  {
   "cell_type": "code",
   "execution_count": 3,
   "metadata": {
    "collapsed": true
   },
   "outputs": [],
   "source": [
    "model = SDEN(len(word2index),100,64,len(slot2index),len(intent2index))\n",
    "model.load_state_dict(torch.load('sden.pkl'))"
   ]
  },
  {
   "cell_type": "code",
   "execution_count": 54,
   "metadata": {
    "collapsed": false
   },
   "outputs": [
    {
     "data": {
      "text/plain": [
       "SDEN(\n",
       "  (embed): Embedding(14377, 100)\n",
       "  (bigru_m): GRU(100, 64, batch_first=True, bidirectional=True)\n",
       "  (bigru_c): GRU(100, 64, batch_first=True, bidirectional=True)\n",
       "  (context_encoder): Sequential(\n",
       "    (0): Linear(in_features=256, out_features=128, bias=True)\n",
       "    (1): Sigmoid()\n",
       "  )\n",
       "  (session_encoder): GRU(128, 128, batch_first=True, bidirectional=True)\n",
       "  (decoder_1): GRU(100, 128, batch_first=True, bidirectional=True)\n",
       "  (decoder_2): LSTM(256, 128, batch_first=True, bidirectional=True)\n",
       "  (intent_linear): Linear(in_features=256, out_features=12, bias=True)\n",
       "  (slot_linear): Linear(in_features=256, out_features=32, bias=True)\n",
       "  (dropout): Dropout(p=0.5)\n",
       ")"
      ]
     },
     "execution_count": 54,
     "metadata": {},
     "output_type": "execute_result"
    }
   ],
   "source": [
    "model.eval()"
   ]
  },
  {
   "cell_type": "code",
   "execution_count": 67,
   "metadata": {
    "collapsed": true
   },
   "outputs": [],
   "source": [
    "history = [\"스케줄 추가해줘\",\"날짜를 알려주세요.\"]\n",
    "current = \"나 근데 꽃배달해줘\""
   ]
  },
  {
   "cell_type": "code",
   "execution_count": 68,
   "metadata": {
    "collapsed": true
   },
   "outputs": [],
   "source": [
    "history = [tagger.morphs(h) for h in history]\n",
    "current = tagger.morphs(current)"
   ]
  },
  {
   "cell_type": "code",
   "execution_count": 69,
   "metadata": {
    "collapsed": false
   },
   "outputs": [
    {
     "name": "stdout",
     "output_type": "stream",
     "text": [
      "FLOWER_Meta\n",
      "['O', 'O', 'O', 'O', 'O', 'O']\n"
     ]
    }
   ],
   "source": [
    "history = [prepare_sequence(h,word2index).view(1,-1) for h in history]\n",
    "current = prepare_sequence(current,word2index).view(1,-1)\n",
    "history = pad_to_history(history,word2index)\n",
    "\n",
    "s,i = model(history,current)\n",
    "slot_p = s.max(1)[1]\n",
    "intent_p = i.max(1)[1]\n",
    "print(index2intent[intent_p.data[0]])\n",
    "print([index2slot[s] for s in slot_p.data.tolist()])"
   ]
  },
  {
   "cell_type": "code",
   "execution_count": null,
   "metadata": {
    "collapsed": true
   },
   "outputs": [],
   "source": []
  }
 ],
 "metadata": {
  "kernelspec": {
   "display_name": "Python 3",
   "language": "python",
   "name": "python3"
  },
  "language_info": {
   "codemirror_mode": {
    "name": "ipython",
    "version": 3
   },
   "file_extension": ".py",
   "mimetype": "text/x-python",
   "name": "python",
   "nbconvert_exporter": "python",
   "pygments_lexer": "ipython3",
   "version": "3.5.2"
  }
 },
 "nbformat": 4,
 "nbformat_minor": 2
}
