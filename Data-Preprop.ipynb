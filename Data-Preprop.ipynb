{
 "cells": [
  {
   "cell_type": "code",
   "execution_count": 7,
   "metadata": {
    "collapsed": true
   },
   "outputs": [],
   "source": [
    "import json\n",
    "import re\n",
    "from copy import deepcopy\n",
    "from collections import OrderedDict\n",
    "from nltk.tokenize import wordpunct_tokenize as tagger"
   ]
  },
  {
   "cell_type": "markdown",
   "metadata": {},
   "source": [
    "# Frame "
   ]
  },
  {
   "cell_type": "code",
   "execution_count": 2,
   "metadata": {
    "collapsed": true
   },
   "outputs": [],
   "source": [
    "data = json.load(open('data/frames.json','r',encoding='utf-8'))"
   ]
  },
  {
   "cell_type": "code",
   "execution_count": 3,
   "metadata": {
    "collapsed": false,
    "scrolled": false
   },
   "outputs": [
    {
     "data": {
      "text/plain": [
       "{'author': 'user',\n",
       " 'labels': {'active_frame': 2,\n",
       "  'acts': [{'args': [{'key': 'dst_city', 'val': 'Neverland'},\n",
       "     {'key': 'n_adults', 'val': '5'},\n",
       "     {'key': 'budget', 'val': '1900'},\n",
       "     {'key': 'ref',\n",
       "      'val': [{'annotations': [{'key': 'or_city', 'val': 'Caprica'},\n",
       "         {'key': 'str_date', 'val': 'August 13, 2016'}],\n",
       "        'frame': 1,\n",
       "        'fromrange': False}]}],\n",
       "    'name': 'inform'}],\n",
       "  'acts_without_refs': [{'args': [{'key': 'dst_city', 'val': 'Neverland'},\n",
       "     {'key': 'n_adults', 'val': '5'},\n",
       "     {'key': 'budget', 'val': '1900'},\n",
       "     {'key': 'or_city', 'val': 'Caprica'},\n",
       "     {'key': 'str_date', 'val': 'August 13, 2016'}],\n",
       "    'name': 'inform'}],\n",
       "  'frames': [{'binary_questions': [],\n",
       "    'compare_requests': [],\n",
       "    'frame_id': 1,\n",
       "    'frame_parent_id': None,\n",
       "    'info': {'NO_RESULT': [{'negated': False, 'val': True}],\n",
       "     'budget': [{'negated': False, 'val': '1700.0'}],\n",
       "     'dst_city': [{'negated': False, 'val': 'Atlantis'}],\n",
       "     'intent': [{'negated': False, 'val': 'book'}],\n",
       "     'n_adults': [{'negated': False, 'val': '8'}],\n",
       "     'or_city': [{'negated': False, 'val': 'Caprica'}],\n",
       "     'str_date': [{'negated': False, 'val': 'august 13'}]},\n",
       "    'requests': []},\n",
       "   {'binary_questions': [],\n",
       "    'compare_requests': [],\n",
       "    'frame_id': 2,\n",
       "    'frame_parent_id': 1,\n",
       "    'info': {'budget': [{'negated': False, 'val': '1900.0'}],\n",
       "     'dst_city': [{'negated': False, 'val': 'Neverland'}],\n",
       "     'intent': [{'negated': False, 'val': 'book'}],\n",
       "     'n_adults': [{'negated': False, 'val': '5'}],\n",
       "     'or_city': [{'negated': False, 'val': 'Caprica'}],\n",
       "     'str_date': [{'negated': False, 'val': 'august 13'}]},\n",
       "    'requests': []}]},\n",
       " 'text': 'Yes, how about going to Neverland from Caprica on August 13, 2016 for 5 adults. For this trip, my budget would be 1900.',\n",
       " 'timestamp': 1471272508882.0}"
      ]
     },
     "execution_count": 3,
     "metadata": {},
     "output_type": "execute_result"
    }
   ],
   "source": [
    "data[0]['turns'][2]"
   ]
  },
  {
   "cell_type": "code",
   "execution_count": 4,
   "metadata": {
    "collapsed": true
   },
   "outputs": [],
   "source": [
    "dialogs=[]"
   ]
  },
  {
   "cell_type": "code",
   "execution_count": 5,
   "metadata": {
    "collapsed": false
   },
   "outputs": [],
   "source": [
    "for d in data:\n",
    "    dialog=[]\n",
    "    for turn in d['turns']:\n",
    "        if turn['author']=='wizard': continue\n",
    "        temp=[]\n",
    "        temp.append(turn['text'])\n",
    "        temp.append(turn['labels']['acts'])\n",
    "        dialog.append(temp)\n",
    "    dialogs.append(dialog)"
   ]
  },
  {
   "cell_type": "code",
   "execution_count": 27,
   "metadata": {
    "collapsed": true
   },
   "outputs": [],
   "source": [
    "dialogs_p=[]"
   ]
  },
  {
   "cell_type": "code",
   "execution_count": 28,
   "metadata": {
    "collapsed": false
   },
   "outputs": [],
   "source": [
    "for dialog in dialogs:\n",
    "    temp=[]\n",
    "    for pair in dialog:\n",
    "        try:\n",
    "            raw = deepcopy(pair[0])\n",
    "            bio = ['O']*len(tagger(raw))\n",
    "\n",
    "            for slot in pair[1]:\n",
    "                if slot['name'] in ['inform','switch_frame']:\n",
    "                    for ss in slot['args']:\n",
    "                            if ss['key']!='intent':\n",
    "                                value = ss['val']\n",
    "                                tag = ss['key']\n",
    "                                if type(value)==list and tag=='ref':\n",
    "                                    for sss in ss['val'][0]['annotations']:\n",
    "                                        if 'val' not in sss.keys() or type(sss['val'])!=str:\n",
    "                                            continue\n",
    "\n",
    "                                        value = sss['val']\n",
    "                                        tag = sss['key']\n",
    "                                        raw = deepcopy(pair[0])\n",
    "                                        raw = raw.replace(value,' '.join(['19191919']*len(tagger(value))))\n",
    "                                        seq = tagger(raw)\n",
    "                                        start=False\n",
    "                                        for i,s in enumerate(seq):\n",
    "                                            if s=='19191919':\n",
    "                                                if start==False:\n",
    "                                                    bio[i]='B-'+tag\n",
    "                                                    start=True\n",
    "                                                else:\n",
    "                                                    bio[i]='I-'+tag\n",
    "                                                seq[i]='@'\n",
    "\n",
    "                                elif type(value)==str:        \n",
    "                                    raw = deepcopy(pair[0])\n",
    "                                    raw = raw.replace(value,' '.join(['19191919']*len(tagger(value))))\n",
    "                                    seq = tagger(raw)\n",
    "                                    start=False\n",
    "                                    for i,s in enumerate(seq):\n",
    "                                        if s=='19191919':\n",
    "                                            if start==False:\n",
    "                                                bio[i]='B-'+tag\n",
    "                                                start=True\n",
    "                                            else:\n",
    "                                                bio[i]='I-'+tag\n",
    "                                            seq[i]='@'\n",
    "\n",
    "            temp.append([tagger(pair[0]),bio])\n",
    "        except:\n",
    "            continue\n",
    "    dialogs_p.append(temp)"
   ]
  },
  {
   "cell_type": "code",
   "execution_count": 13,
   "metadata": {
    "collapsed": false
   },
   "outputs": [
    {
     "data": {
      "text/plain": [
       "1369"
      ]
     },
     "execution_count": 13,
     "metadata": {},
     "output_type": "execute_result"
    }
   ],
   "source": [
    "len(dialogs_p)"
   ]
  },
  {
   "cell_type": "code",
   "execution_count": 33,
   "metadata": {
    "collapsed": false,
    "scrolled": false
   },
   "outputs": [],
   "source": [
    "with open('frame.iob','a',encoding='utf-8') as f:\n",
    "    for dialog in dialogs_p:\n",
    "        for pair in dialog:\n",
    "            f.write(' '.join(pair[0])+'\\t'+' '.join(pair[1])+'\\n')\n",
    "        f.write('\\n')"
   ]
  },
  {
   "cell_type": "code",
   "execution_count": null,
   "metadata": {
    "collapsed": true
   },
   "outputs": [],
   "source": [
    "def make_iob(phrase,goal_tracker):\n",
    "        phrase = deepcopy(phrase)\n",
    "        goal_tracker = deepcopy(goal_tracker)\n",
    "        if len(self.global_user_goal)>0: goal_tracker.update(self.global_user_goal)\n",
    "        order = [[(k,v),phrase.index(v)] for k,v in goal_tracker.items() if v !=None and v in phrase]\n",
    "        order = sorted(order, key=lambda x: x[1])\n",
    "        goal_tracker = OrderedDict([o[0] for o in order])\n",
    "        pos = tagger(phrase)\n",
    "        tag=[\"O\"]*len(pos)\n",
    "        for k,v in goal_tracker.items():\n",
    "            B=True\n",
    "            if v in phrase:\n",
    "                for i,p in enumerate(pos):\n",
    "                    if p!=\"<MASK>\" and p in v:\n",
    "                        if B:\n",
    "                            tag[i] = 'B-'+k\n",
    "                            B=False\n",
    "                            pos[i]=\"<MASK>\"\n",
    "                        else:\n",
    "                            if i!=0 and tag[i-1][0] in ['B','I']: \n",
    "                                tag[i] = 'I-'+k\n",
    "                                pos[i]=\"<MASK>\"\n",
    "        return tag"
   ]
  },
  {
   "cell_type": "markdown",
   "metadata": {},
   "source": [
    "# FRAME wizard"
   ]
  },
  {
   "cell_type": "code",
   "execution_count": 1,
   "metadata": {
    "collapsed": true
   },
   "outputs": [],
   "source": [
    "import json"
   ]
  },
  {
   "cell_type": "code",
   "execution_count": 2,
   "metadata": {
    "collapsed": false
   },
   "outputs": [],
   "source": [
    "data = json.load(open('./Conv_data/Frames-dataset/frames.json','r',encoding='utf-8'))"
   ]
  },
  {
   "cell_type": "code",
   "execution_count": 3,
   "metadata": {
    "collapsed": true
   },
   "outputs": [],
   "source": [
    "dialogs=[]"
   ]
  },
  {
   "cell_type": "code",
   "execution_count": 19,
   "metadata": {
    "collapsed": false,
    "scrolled": false
   },
   "outputs": [
    {
     "data": {
      "text/plain": [
       "{'active_frame': 2,\n",
       " 'acts': [{'args': [{'key': 'ref',\n",
       "     'val': [{'annotations': [{'key': 'str_date', 'val': None}],\n",
       "       'frame': 2,\n",
       "       'fromrange': False}]}],\n",
       "   'name': 'no_result'},\n",
       "  {'args': [{'key': 'str_date'}, {'key': 'end_date'}], 'name': 'suggest'}],\n",
       " 'frames': [{'binary_questions': [],\n",
       "   'compare_requests': [],\n",
       "   'frame_id': 1,\n",
       "   'frame_parent_id': None,\n",
       "   'info': {'NO_RESULT': [{'negated': False, 'val': True}],\n",
       "    'budget': [{'negated': False, 'val': '1700.0'}],\n",
       "    'dst_city': [{'negated': False, 'val': 'Atlantis'}],\n",
       "    'intent': [{'negated': False, 'val': 'book'}],\n",
       "    'n_adults': [{'negated': False, 'val': '8'}],\n",
       "    'or_city': [{'negated': False, 'val': 'Caprica'}],\n",
       "    'str_date': [{'negated': False, 'val': 'august 13'}]},\n",
       "   'requests': []},\n",
       "  {'binary_questions': [],\n",
       "   'compare_requests': [],\n",
       "   'frame_id': 2,\n",
       "   'frame_parent_id': 1,\n",
       "   'info': {'NO_RESULT': [{'negated': False, 'val': True}],\n",
       "    'budget': [{'negated': False, 'val': '1900.0'}],\n",
       "    'dst_city': [{'negated': False, 'val': 'Neverland'}],\n",
       "    'intent': [{'negated': False, 'val': 'book'}],\n",
       "    'n_adults': [{'negated': False, 'val': '5'}],\n",
       "    'or_city': [{'negated': False, 'val': 'Caprica'}],\n",
       "    'str_date': [{'negated': False, 'val': 'august 13'}]},\n",
       "   'requests': []}]}"
      ]
     },
     "execution_count": 19,
     "metadata": {},
     "output_type": "execute_result"
    }
   ],
   "source": [
    "data[0]['turns'][3]['labels']"
   ]
  },
  {
   "cell_type": "code",
   "execution_count": 36,
   "metadata": {
    "collapsed": false
   },
   "outputs": [
    {
     "data": {
      "text/plain": [
       "'There are no activities listed for this package. You will be staying at the Ivory Legacy Hotel for 7 days. This hotel has a 4.5 star rating and free wifi. Will I go ahead and book this package?'"
      ]
     },
     "execution_count": 36,
     "metadata": {},
     "output_type": "execute_result"
    }
   ],
   "source": [
    "data[1]['turns'][17]['text']"
   ]
  },
  {
   "cell_type": "code",
   "execution_count": 37,
   "metadata": {
    "collapsed": false
   },
   "outputs": [
    {
     "data": {
      "text/plain": [
       "'Yes, I would like to book this package.'"
      ]
     },
     "execution_count": 37,
     "metadata": {},
     "output_type": "execute_result"
    }
   ],
   "source": [
    "data[1]['turns'][18]['text']"
   ]
  },
  {
   "cell_type": "code",
   "execution_count": null,
   "metadata": {
    "collapsed": true
   },
   "outputs": [],
   "source": [
    "for d in data:\n",
    "    dialog=[]\n",
    "    for turn in d['turns']:\n",
    "        if turn['author']=='wizard': continue\n",
    "        temp=[]\n",
    "        temp.append(turn['text'])\n",
    "        temp.append(turn['labels']['acts'])\n",
    "        dialog.append(temp)\n",
    "    dialogs.append(dialog)"
   ]
  }
 ],
 "metadata": {
  "kernelspec": {
   "display_name": "Python 3",
   "language": "python",
   "name": "python3"
  },
  "language_info": {
   "codemirror_mode": {
    "name": "ipython",
    "version": 3
   },
   "file_extension": ".py",
   "mimetype": "text/x-python",
   "name": "python",
   "nbconvert_exporter": "python",
   "pygments_lexer": "ipython3",
   "version": "3.5.2"
  }
 },
 "nbformat": 4,
 "nbformat_minor": 2
}
